{
 "cells": [
  {
   "cell_type": "markdown",
   "id": "a6b1c0f1",
   "metadata": {},
   "source": [
    "# UWF22 dataset stats\n",
    "\n",
    "This notebook explores the data from the UFW22Zeek database\n",
    "\n",
    "In this notebook, we explore:\n",
    "- Basic dataset stats\n"
   ]
  },
  {
   "cell_type": "code",
   "execution_count": null,
   "id": "f4a556c8",
   "metadata": {},
   "outputs": [],
   "source": [
    "from noether.datasets.UWF22_local import UWF22L\n",
    "from ordered_set import OrderedSet\n",
    "\n",
    "dataset = UWF22L(\"/data/datasets/UWF22\")\n",
    "\n",
    "dataset.prepare_data()\n",
    "dataset.setup(stage=\"fit\")"
   ]
  },
  {
   "cell_type": "code",
   "execution_count": 6,
   "id": "09a0cbd8",
   "metadata": {},
   "outputs": [
    {
     "name": "stderr",
     "output_type": "stream",
     "text": [
      "/data/Try1/noether/datasets/UFW22_local.py:254: FutureWarning: Series.__getitem__ treating keys as positions is deprecated. In a future version, integer keys will always be treated as labels (consistent with DataFrame behavior). To access a value by position, use `ser.iloc[pos]`\n",
      "  .apply(lambda x: (x[0], x[1]), axis=1)) # type: ignore\n",
      "/data/Try1/noether/datasets/UFW22_local.py:258: FutureWarning: Series.__getitem__ treating keys as positions is deprecated. In a future version, integer keys will always be treated as labels (consistent with DataFrame behavior). To access a value by position, use `ser.iloc[pos]`\n",
      "  .apply(lambda x: (x[0], x[1]), axis=1)) # type: ignore\n"
     ]
    },
    {
     "ename": "KeyError",
     "evalue": "None",
     "output_type": "error",
     "traceback": [
      "\u001b[31m---------------------------------------------------------------------------\u001b[39m",
      "\u001b[31mKeyError\u001b[39m                                  Traceback (most recent call last)",
      "\u001b[36mCell\u001b[39m\u001b[36m \u001b[39m\u001b[32mIn[6]\u001b[39m\u001b[32m, line 1\u001b[39m\n\u001b[32m----> \u001b[39m\u001b[32m1\u001b[39m \u001b[38;5;28;43mnext\u001b[39;49m\u001b[43m(\u001b[49m\u001b[38;5;28;43miter\u001b[39;49m\u001b[43m(\u001b[49m\u001b[43mdataset\u001b[49m\u001b[43m.\u001b[49m\u001b[43mgenerate_batches\u001b[49m\u001b[43m(\u001b[49m\u001b[43m)\u001b[49m\u001b[43m)\u001b[49m\u001b[43m)\u001b[49m\n",
      "\u001b[36mFile \u001b[39m\u001b[32m/data/Try1/noether/datasets/UFW22_local.py:283\u001b[39m, in \u001b[36mUFW22L.generate_batches\u001b[39m\u001b[34m(self, batch_type)\u001b[39m\n\u001b[32m    280\u001b[39m filename = os.path.join(\u001b[38;5;28mself\u001b[39m.data_dir, file[\u001b[33m\"\u001b[39m\u001b[33mraw_file\u001b[39m\u001b[33m\"\u001b[39m])\n\u001b[32m    281\u001b[39m batch: \u001b[38;5;28mlist\u001b[39m[pd.DataFrame] = []\n\u001b[32m--> \u001b[39m\u001b[32m283\u001b[39m \u001b[43m\u001b[49m\u001b[38;5;28;43;01mfor\u001b[39;49;00m\u001b[43m \u001b[49m\u001b[38;5;28;43mbin\u001b[39;49m\u001b[43m \u001b[49m\u001b[38;5;129;43;01min\u001b[39;49;00m\u001b[43m \u001b[49m\u001b[38;5;28;43mself\u001b[39;49m\u001b[43m.\u001b[49m\u001b[43mgenerate_bins_from_file\u001b[49m\u001b[43m(\u001b[49m\u001b[43mfilename\u001b[49m\u001b[43m)\u001b[49m\u001b[43m:\u001b[49m\n\u001b[32m    284\u001b[39m \u001b[43m    \u001b[49m\u001b[38;5;66;43;03m# Collect bins\u001b[39;49;00m\n\u001b[32m    285\u001b[39m \u001b[43m    \u001b[49m\u001b[38;5;28;43;01mif\u001b[39;49;00m\u001b[43m \u001b[49m\u001b[38;5;28;43mlen\u001b[39;49m\u001b[43m(\u001b[49m\u001b[43mbatch\u001b[49m\u001b[43m)\u001b[49m\u001b[43m \u001b[49m\u001b[43m!=\u001b[49m\u001b[43m \u001b[49m\u001b[38;5;28;43mself\u001b[39;49m\u001b[43m.\u001b[49m\u001b[43mbatch_size\u001b[49m\u001b[43m:\u001b[49m\n\u001b[32m    286\u001b[39m \u001b[43m        \u001b[49m\u001b[43mbatch\u001b[49m\u001b[43m.\u001b[49m\u001b[43mappend\u001b[49m\u001b[43m(\u001b[49m\u001b[38;5;28;43mbin\u001b[39;49m\u001b[43m)\u001b[49m\n",
      "\u001b[36mFile \u001b[39m\u001b[32m/data/Try1/noether/datasets/UFW22_local.py:262\u001b[39m, in \u001b[36mUFW22L.generate_bins_from_file\u001b[39m\u001b[34m(self, filename, keyword_map)\u001b[39m\n\u001b[32m    260\u001b[39m \u001b[38;5;66;03m# Apply the keyword map\u001b[39;00m\n\u001b[32m    261\u001b[39m \u001b[38;5;28;01mfor\u001b[39;00m col \u001b[38;5;129;01min\u001b[39;00m \u001b[38;5;28mself\u001b[39m.keyword_map:\n\u001b[32m--> \u001b[39m\u001b[32m262\u001b[39m     df[col] = \u001b[43mdf\u001b[49m\u001b[43m[\u001b[49m\u001b[43mcol\u001b[49m\u001b[43m]\u001b[49m\u001b[43m.\u001b[49m\u001b[43mmap\u001b[49m\u001b[43m(\u001b[49m\u001b[38;5;28;43mself\u001b[39;49m\u001b[43m.\u001b[49m\u001b[43mkeyword_map\u001b[49m\u001b[43m[\u001b[49m\u001b[43mcol\u001b[49m\u001b[43m]\u001b[49m\u001b[43m.\u001b[49m\u001b[43mindex\u001b[49m\u001b[43m)\u001b[49m\n\u001b[32m    263\u001b[39m df[\u001b[33m\"\u001b[39m\u001b[33msrc_ip_id\u001b[39m\u001b[33m\"\u001b[39m] = df[\u001b[33m\"\u001b[39m\u001b[33msrc_ip_zeek\u001b[39m\u001b[33m\"\u001b[39m].map(\u001b[38;5;28mself\u001b[39m.hostmap.index)\n\u001b[32m    264\u001b[39m df[\u001b[33m\"\u001b[39m\u001b[33mdest_ip_id\u001b[39m\u001b[33m\"\u001b[39m] = df[\u001b[33m\"\u001b[39m\u001b[33mdest_ip_zeek\u001b[39m\u001b[33m\"\u001b[39m].map(\u001b[38;5;28mself\u001b[39m.hostmap.index)\n",
      "\u001b[36mFile \u001b[39m\u001b[32m/data/Try1/.venv/lib/python3.12/site-packages/pandas/core/series.py:4700\u001b[39m, in \u001b[36mSeries.map\u001b[39m\u001b[34m(self, arg, na_action)\u001b[39m\n\u001b[32m   4620\u001b[39m \u001b[38;5;28;01mdef\u001b[39;00m\u001b[38;5;250m \u001b[39m\u001b[34mmap\u001b[39m(\n\u001b[32m   4621\u001b[39m     \u001b[38;5;28mself\u001b[39m,\n\u001b[32m   4622\u001b[39m     arg: Callable | Mapping | Series,\n\u001b[32m   4623\u001b[39m     na_action: Literal[\u001b[33m\"\u001b[39m\u001b[33mignore\u001b[39m\u001b[33m\"\u001b[39m] | \u001b[38;5;28;01mNone\u001b[39;00m = \u001b[38;5;28;01mNone\u001b[39;00m,\n\u001b[32m   4624\u001b[39m ) -> Series:\n\u001b[32m   4625\u001b[39m \u001b[38;5;250m    \u001b[39m\u001b[33;03m\"\"\"\u001b[39;00m\n\u001b[32m   4626\u001b[39m \u001b[33;03m    Map values of Series according to an input mapping or function.\u001b[39;00m\n\u001b[32m   4627\u001b[39m \n\u001b[32m   (...)\u001b[39m\u001b[32m   4698\u001b[39m \u001b[33;03m    dtype: object\u001b[39;00m\n\u001b[32m   4699\u001b[39m \u001b[33;03m    \"\"\"\u001b[39;00m\n\u001b[32m-> \u001b[39m\u001b[32m4700\u001b[39m     new_values = \u001b[38;5;28;43mself\u001b[39;49m\u001b[43m.\u001b[49m\u001b[43m_map_values\u001b[49m\u001b[43m(\u001b[49m\u001b[43marg\u001b[49m\u001b[43m,\u001b[49m\u001b[43m \u001b[49m\u001b[43mna_action\u001b[49m\u001b[43m=\u001b[49m\u001b[43mna_action\u001b[49m\u001b[43m)\u001b[49m\n\u001b[32m   4701\u001b[39m     \u001b[38;5;28;01mreturn\u001b[39;00m \u001b[38;5;28mself\u001b[39m._constructor(new_values, index=\u001b[38;5;28mself\u001b[39m.index, copy=\u001b[38;5;28;01mFalse\u001b[39;00m).__finalize__(\n\u001b[32m   4702\u001b[39m         \u001b[38;5;28mself\u001b[39m, method=\u001b[33m\"\u001b[39m\u001b[33mmap\u001b[39m\u001b[33m\"\u001b[39m\n\u001b[32m   4703\u001b[39m     )\n",
      "\u001b[36mFile \u001b[39m\u001b[32m/data/Try1/.venv/lib/python3.12/site-packages/pandas/core/base.py:921\u001b[39m, in \u001b[36mIndexOpsMixin._map_values\u001b[39m\u001b[34m(self, mapper, na_action, convert)\u001b[39m\n\u001b[32m    918\u001b[39m \u001b[38;5;28;01mif\u001b[39;00m \u001b[38;5;28misinstance\u001b[39m(arr, ExtensionArray):\n\u001b[32m    919\u001b[39m     \u001b[38;5;28;01mreturn\u001b[39;00m arr.map(mapper, na_action=na_action)\n\u001b[32m--> \u001b[39m\u001b[32m921\u001b[39m \u001b[38;5;28;01mreturn\u001b[39;00m \u001b[43malgorithms\u001b[49m\u001b[43m.\u001b[49m\u001b[43mmap_array\u001b[49m\u001b[43m(\u001b[49m\u001b[43marr\u001b[49m\u001b[43m,\u001b[49m\u001b[43m \u001b[49m\u001b[43mmapper\u001b[49m\u001b[43m,\u001b[49m\u001b[43m \u001b[49m\u001b[43mna_action\u001b[49m\u001b[43m=\u001b[49m\u001b[43mna_action\u001b[49m\u001b[43m,\u001b[49m\u001b[43m \u001b[49m\u001b[43mconvert\u001b[49m\u001b[43m=\u001b[49m\u001b[43mconvert\u001b[49m\u001b[43m)\u001b[49m\n",
      "\u001b[36mFile \u001b[39m\u001b[32m/data/Try1/.venv/lib/python3.12/site-packages/pandas/core/algorithms.py:1743\u001b[39m, in \u001b[36mmap_array\u001b[39m\u001b[34m(arr, mapper, na_action, convert)\u001b[39m\n\u001b[32m   1741\u001b[39m values = arr.astype(\u001b[38;5;28mobject\u001b[39m, copy=\u001b[38;5;28;01mFalse\u001b[39;00m)\n\u001b[32m   1742\u001b[39m \u001b[38;5;28;01mif\u001b[39;00m na_action \u001b[38;5;129;01mis\u001b[39;00m \u001b[38;5;28;01mNone\u001b[39;00m:\n\u001b[32m-> \u001b[39m\u001b[32m1743\u001b[39m     \u001b[38;5;28;01mreturn\u001b[39;00m \u001b[43mlib\u001b[49m\u001b[43m.\u001b[49m\u001b[43mmap_infer\u001b[49m\u001b[43m(\u001b[49m\u001b[43mvalues\u001b[49m\u001b[43m,\u001b[49m\u001b[43m \u001b[49m\u001b[43mmapper\u001b[49m\u001b[43m,\u001b[49m\u001b[43m \u001b[49m\u001b[43mconvert\u001b[49m\u001b[43m=\u001b[49m\u001b[43mconvert\u001b[49m\u001b[43m)\u001b[49m\n\u001b[32m   1744\u001b[39m \u001b[38;5;28;01melse\u001b[39;00m:\n\u001b[32m   1745\u001b[39m     \u001b[38;5;28;01mreturn\u001b[39;00m lib.map_infer_mask(\n\u001b[32m   1746\u001b[39m         values, mapper, mask=isna(values).view(np.uint8), convert=convert\n\u001b[32m   1747\u001b[39m     )\n",
      "\u001b[36mFile \u001b[39m\u001b[32mlib.pyx:2972\u001b[39m, in \u001b[36mpandas._libs.lib.map_infer\u001b[39m\u001b[34m()\u001b[39m\n",
      "\u001b[36mFile \u001b[39m\u001b[32m/data/Try1/.venv/lib/python3.12/site-packages/ordered_set/__init__.py:247\u001b[39m, in \u001b[36mOrderedSet.index\u001b[39m\u001b[34m(self, key)\u001b[39m\n\u001b[32m    245\u001b[39m \u001b[38;5;28;01mif\u001b[39;00m \u001b[38;5;28misinstance\u001b[39m(key, Iterable) \u001b[38;5;129;01mand\u001b[39;00m \u001b[38;5;129;01mnot\u001b[39;00m _is_atomic(key):\n\u001b[32m    246\u001b[39m     \u001b[38;5;28;01mreturn\u001b[39;00m [\u001b[38;5;28mself\u001b[39m.index(subkey) \u001b[38;5;28;01mfor\u001b[39;00m subkey \u001b[38;5;129;01min\u001b[39;00m key]\n\u001b[32m--> \u001b[39m\u001b[32m247\u001b[39m \u001b[38;5;28;01mreturn\u001b[39;00m \u001b[38;5;28;43mself\u001b[39;49m\u001b[43m.\u001b[49m\u001b[43mmap\u001b[49m\u001b[43m[\u001b[49m\u001b[43mkey\u001b[49m\u001b[43m]\u001b[49m\n",
      "\u001b[31mKeyError\u001b[39m: None"
     ]
    }
   ],
   "source": [
    "next(iter(dataset.generate_batches()))"
   ]
  },
  {
   "cell_type": "code",
   "execution_count": null,
   "id": "ed07c551",
   "metadata": {},
   "outputs": [],
   "source": [
    "import pandas as pd\n",
    "import matplotlib.pyplot as plt\n",
    "from IPython.display import clear_output\n",
    "\n",
    "def UFW22_unique_v1(dataset, show: bool = False):\n",
    "    # Get dataset columns\n",
    "    columns = list(next(iter(dataset.generate_bins())).columns)\n",
    "\n",
    "    # Generate keymaps\n",
    "    exclude_columns = [\n",
    "        \"time\",\n",
    "        \"source computer\",\n",
    "        \"destination computer\",\n",
    "        \"source user@domain\",\n",
    "        \"destination user@domain\"\n",
    "    ]\n",
    "    keyword_map = {col: OrderedSet([]) for col in columns if col not in exclude_columns}\n",
    "    hostmap = OrderedSet([])\n",
    "    usermap = OrderedSet([])\n",
    "\n",
    "    # Keep track of the added values per column\n",
    "    added_items_per_bin = {col: [] for col in columns if col not in exclude_columns}\n",
    "    added_items_per_bin[\"hosts\"] = []\n",
    "    added_items_per_bin[\"services\"] = []\n",
    "\n",
    "    def count_updates(ordered_set: OrderedSet, update):\n",
    "        set_size = len(ordered_set)\n",
    "        ordered_set.update(update)\n",
    "        new_size = len(ordered_set)\n",
    "        return new_size\n",
    "\n",
    "    def show_plot(added_items_per_bin):\n",
    "        if show == False:\n",
    "            return\n",
    "        \n",
    "        df = pd.DataFrame(added_items_per_bin)\n",
    "\n",
    "        clear_output(wait=True)\n",
    "        df.index = df.index/dataset.batch_size\n",
    "        ax = df[[\"hosts\"]].plot(xlabel=\"batch\", ylabel=\"Unique count\")\n",
    "        plt.grid(True)\n",
    "        plt.show()\n",
    "\n",
    "    for batch_id, (batch, stage) in enumerate(dataset.generate_batches()):\n",
    "        # Go trough every bin\n",
    "        for bin in batch:\n",
    "            # Update keyword map\n",
    "            for col in keyword_map.keys():\n",
    "                diff = count_updates(keyword_map[col], bin[col].dropna().unique())\n",
    "                added_items_per_bin[col].append(diff)\n",
    "            \n",
    "            diff1 = count_updates(hostmap, bin[\"source computer\"].dropna().unique())\n",
    "            diff2 = count_updates(hostmap, bin[\"destination computer\"].dropna().unique())\n",
    "            added_items_per_bin[\"hosts\"].append(diff1 + diff2)\n",
    "\n",
    "            diff1 = count_updates(usermap, bin[\"source user@domain\"].dropna().unique())\n",
    "            diff2 = count_updates(usermap, bin[\"destination user@domain\"].dropna().unique())\n",
    "            added_items_per_bin[\"services\"].append(diff1 + diff2)\n",
    "\n",
    "        show_plot(added_items_per_bin)\n",
    "\n",
    "\n",
    "    show_plot(added_items_per_bin)\n",
    "    df = pd.DataFrame(added_items_per_bin)\n",
    "    df.to_parquet(\"keywordmap_percent.parquet\")\n",
    "\n",
    "LANL_unique_v1(dataset, show=True)"
   ]
  },
  {
   "cell_type": "markdown",
   "id": "17803868",
   "metadata": {},
   "source": [
    "### Dataset stats"
   ]
  },
  {
   "cell_type": "code",
   "execution_count": null,
   "id": "c6962ef5",
   "metadata": {},
   "outputs": [],
   "source": [
    "import pandas as pd\n",
    "from ordered_set import OrderedSet\n",
    "\n",
    "set = OrderedSet([])\n",
    "\n",
    "df = pd.read_parquet(\"/data/datasets/UWF22/7.parquet\")\n",
    "set.update(df[[\"src_ip_zeek\", \"src_port_zeek\"]].drop_duplicates().reset_index(drop=True).apply(lambda x: (x[0], x[1]), axis=1))\n",
    "set"
   ]
  },
  {
   "cell_type": "code",
   "execution_count": null,
   "id": "ae683de5",
   "metadata": {},
   "outputs": [],
   "source": [
    "df[\"service_id\"] = df[[\"src_ip_zeek\", \"src_port_zeek\"]].apply(lambda x: (x[0], x[1]), axis=1).map(set.index)"
   ]
  },
  {
   "cell_type": "code",
   "execution_count": null,
   "id": "ddff82c9",
   "metadata": {},
   "outputs": [],
   "source": []
  },
  {
   "cell_type": "markdown",
   "id": "adee0a6e",
   "metadata": {},
   "source": []
  }
 ],
 "metadata": {
  "kernelspec": {
   "display_name": ".venv",
   "language": "python",
   "name": "python3"
  },
  "language_info": {
   "codemirror_mode": {
    "name": "ipython",
    "version": 3
   },
   "file_extension": ".py",
   "mimetype": "text/x-python",
   "name": "python",
   "nbconvert_exporter": "python",
   "pygments_lexer": "ipython3",
   "version": "3.12.3"
  }
 },
 "nbformat": 4,
 "nbformat_minor": 5
}
