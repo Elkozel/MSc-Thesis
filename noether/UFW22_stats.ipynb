{
 "cells": [
  {
   "cell_type": "markdown",
   "id": "a6b1c0f1",
   "metadata": {},
   "source": [
    "# UFW22 dataset stats\n",
    "\n",
    "This notebook explores the data from the UFW22Zeek database\n",
    "\n",
    "In this notebook, we explore:\n",
    "- Basic dataset stats\n"
   ]
  },
  {
   "cell_type": "code",
   "execution_count": 1,
   "id": "f4a556c8",
   "metadata": {},
   "outputs": [
    {
     "name": "stderr",
     "output_type": "stream",
     "text": [
      "/data/Try1/.venv/lib/python3.12/site-packages/tqdm/auto.py:21: TqdmWarning: IProgress not found. Please update jupyter and ipywidgets. See https://ipywidgets.readthedocs.io/en/stable/user_install.html\n",
      "  from .autonotebook import tqdm as notebook_tqdm\n"
     ]
    }
   ],
   "source": [
    "from datasets.UFW22_local import UFW22L\n",
    "\n",
    "dataset = UFW22L(\"/data/datasets/UWF22\")\n",
    "\n",
    "dataset.prepare_data()\n",
    "dataset.setup(stage=\"fit\")\n",
    "\n",
    "# Get dataset columns\n",
    "columns = []\n",
    "s = None\n",
    "for batch in dataset.train_dataloader():\n",
    "    s = batch\n",
    "    break"
   ]
  },
  {
   "cell_type": "code",
   "execution_count": null,
   "id": "ed07c551",
   "metadata": {},
   "outputs": [
    {
     "data": {
      "text/plain": [
       "Data(time=[3406], x=[4218, 0], edge_index=[2, 3406], edge_attr=[3406, 4], y=[3406])"
      ]
     },
     "execution_count": 4,
     "metadata": {},
     "output_type": "execute_result"
    }
   ],
   "source": []
  },
  {
   "cell_type": "markdown",
   "id": "17803868",
   "metadata": {},
   "source": [
    "### Dataset stats"
   ]
  },
  {
   "cell_type": "code",
   "execution_count": 13,
   "id": "c6962ef5",
   "metadata": {},
   "outputs": [
    {
     "name": "stderr",
     "output_type": "stream",
     "text": [
      "/tmp/ipykernel_6034/391992806.py:7: FutureWarning: Series.__getitem__ treating keys as positions is deprecated. In a future version, integer keys will always be treated as labels (consistent with DataFrame behavior). To access a value by position, use `ser.iloc[pos]`\n",
      "  set.update(df[[\"src_ip_zeek\", \"src_port_zeek\"]].drop_duplicates().reset_index(drop=True).apply(lambda x: (x[0], x[1]), axis=1))\n"
     ]
    },
    {
     "data": {
      "text/plain": [
       "OrderedSet([('143.88.4.15', 45424), ('143.88.5.17', 59554), ('143.88.5.17', 59556), ('143.88.5.17', 4444), ('143.88.5.17', 50498), ('143.88.5.17', 50500), ('143.88.5.17', 59562), ('143.88.5.17', 59564), ('143.88.9.18', 33896), ('143.88.10.11', 51770), ('143.88.10.11', 51773), ('143.88.3.12', 40333), ('143.88.3.12', 34575), ('143.88.4.15', 38075), ('143.88.4.15', 45749), ('143.88.4.15', 33491), ('143.88.4.15', 40515), ('143.88.4.15', 40537), ('143.88.4.15', 39331), ('143.88.4.15', 54996), ('143.88.4.15', 54998), ('143.88.9.13', 56208), ('143.88.4.15', 42707), ('143.88.4.15', 43525), ('143.88.9.13', 56211), ('143.88.4.15', 42989), ('143.88.4.15', 38305), ('143.88.4.15', 35565), ('143.88.4.15', 36225), ('143.88.4.15', 37131), ('143.88.4.15', 39393), ('143.88.4.15', 45611), ('143.88.4.15', 38144), ('143.88.4.15', 38148), ('143.88.9.13', 56241), ('143.88.4.15', 38142), ('143.88.9.13', 56239), ('143.88.3.12', 39443), ('143.88.3.12', 35813), ('143.88.8.12', 35427), ('143.88.10.11', 32833), ('143.88.10.11', 58743)])"
      ]
     },
     "execution_count": 13,
     "metadata": {},
     "output_type": "execute_result"
    }
   ],
   "source": [
    "import pandas as pd\n",
    "from ordered_set import OrderedSet\n",
    "\n",
    "set = OrderedSet([])\n",
    "\n",
    "df = pd.read_parquet(\"/data/datasets/UWF22/7.parquet\")\n",
    "set.update(df[[\"src_ip_zeek\", \"src_port_zeek\"]].drop_duplicates().reset_index(drop=True).apply(lambda x: (x[0], x[1]), axis=1))\n",
    "set"
   ]
  },
  {
   "cell_type": "code",
   "execution_count": 14,
   "id": "ae683de5",
   "metadata": {},
   "outputs": [
    {
     "name": "stderr",
     "output_type": "stream",
     "text": [
      "/tmp/ipykernel_6034/1028626116.py:1: FutureWarning: Series.__getitem__ treating keys as positions is deprecated. In a future version, integer keys will always be treated as labels (consistent with DataFrame behavior). To access a value by position, use `ser.iloc[pos]`\n",
      "  df[\"service_id\"] = df[[\"src_ip_zeek\", \"src_port_zeek\"]].apply(lambda x: (x[0], x[1]), axis=1).map(set.index)\n"
     ]
    }
   ],
   "source": [
    "df[\"service_id\"] = df[[\"src_ip_zeek\", \"src_port_zeek\"]].apply(lambda x: (x[0], x[1]), axis=1).map(set.index)"
   ]
  },
  {
   "cell_type": "code",
   "execution_count": null,
   "id": "ddff82c9",
   "metadata": {},
   "outputs": [
    {
     "data": {
      "application/vnd.microsoft.datawrangler.viewer.v0+json": {
       "columns": [
        {
         "name": "index",
         "rawType": "int64",
         "type": "integer"
        },
        {
         "name": "service_id",
         "rawType": "int64",
         "type": "integer"
        }
       ],
       "ref": "c4f4d2bb-5d10-49e8-b38e-0e37f5a74371",
       "rows": [
        [
         "0",
         "0"
        ],
        [
         "1",
         "0"
        ],
        [
         "2",
         "0"
        ],
        [
         "3",
         "0"
        ],
        [
         "4",
         "1"
        ],
        [
         "5",
         "2"
        ],
        [
         "6",
         "3"
        ],
        [
         "7",
         "4"
        ],
        [
         "8",
         "5"
        ],
        [
         "9",
         "6"
        ],
        [
         "10",
         "7"
        ],
        [
         "11",
         "8"
        ],
        [
         "12",
         "8"
        ],
        [
         "13",
         "9"
        ],
        [
         "14",
         "10"
        ],
        [
         "15",
         "11"
        ],
        [
         "16",
         "12"
        ],
        [
         "17",
         "13"
        ],
        [
         "18",
         "14"
        ],
        [
         "19",
         "15"
        ],
        [
         "20",
         "16"
        ],
        [
         "21",
         "17"
        ],
        [
         "22",
         "18"
        ],
        [
         "23",
         "19"
        ],
        [
         "24",
         "20"
        ],
        [
         "25",
         "20"
        ],
        [
         "26",
         "20"
        ],
        [
         "27",
         "21"
        ],
        [
         "28",
         "22"
        ],
        [
         "29",
         "23"
        ],
        [
         "30",
         "24"
        ],
        [
         "31",
         "25"
        ],
        [
         "32",
         "26"
        ],
        [
         "33",
         "27"
        ],
        [
         "34",
         "28"
        ],
        [
         "35",
         "29"
        ],
        [
         "36",
         "30"
        ],
        [
         "37",
         "30"
        ],
        [
         "38",
         "31"
        ],
        [
         "39",
         "32"
        ],
        [
         "40",
         "32"
        ],
        [
         "41",
         "33"
        ],
        [
         "42",
         "33"
        ],
        [
         "43",
         "34"
        ],
        [
         "44",
         "34"
        ],
        [
         "45",
         "35"
        ],
        [
         "46",
         "36"
        ],
        [
         "47",
         "36"
        ],
        [
         "48",
         "37"
        ],
        [
         "49",
         "38"
        ]
       ],
       "shape": {
        "columns": 1,
        "rows": 63
       }
      },
      "text/plain": [
       "0      0\n",
       "1      0\n",
       "2      0\n",
       "3      0\n",
       "4      1\n",
       "      ..\n",
       "58     3\n",
       "59     3\n",
       "60     3\n",
       "61    41\n",
       "62     7\n",
       "Name: service_id, Length: 63, dtype: int64"
      ]
     },
     "execution_count": 16,
     "metadata": {},
     "output_type": "execute_result"
    }
   ],
   "source": []
  },
  {
   "cell_type": "markdown",
   "id": "adee0a6e",
   "metadata": {},
   "source": []
  }
 ],
 "metadata": {
  "kernelspec": {
   "display_name": ".venv",
   "language": "python",
   "name": "python3"
  },
  "language_info": {
   "codemirror_mode": {
    "name": "ipython",
    "version": 3
   },
   "file_extension": ".py",
   "mimetype": "text/x-python",
   "name": "python",
   "nbconvert_exporter": "python",
   "pygments_lexer": "ipython3",
   "version": "3.13.3"
  }
 },
 "nbformat": 4,
 "nbformat_minor": 5
}
