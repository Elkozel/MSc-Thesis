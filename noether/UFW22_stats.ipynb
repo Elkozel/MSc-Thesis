{
 "cells": [
  {
   "cell_type": "markdown",
   "id": "a6b1c0f1",
   "metadata": {},
   "source": [
    "# UFW22 dataset stats\n",
    "\n",
    "This notebook explores the data from the UFW22Zeek database\n",
    "\n",
    "In this notebook, we explore:\n",
    "- Basic dataset stats\n"
   ]
  },
  {
   "cell_type": "code",
   "execution_count": 1,
   "id": "f4a556c8",
   "metadata": {},
   "outputs": [
    {
     "name": "stderr",
     "output_type": "stream",
     "text": [
      "/data/Try1/.venv/lib/python3.12/site-packages/tqdm/auto.py:21: TqdmWarning: IProgress not found. Please update jupyter and ipywidgets. See https://ipywidgets.readthedocs.io/en/stable/user_install.html\n",
      "  from .autonotebook import tqdm as notebook_tqdm\n"
     ]
    }
   ],
   "source": [
    "from datasets.UFW22_local import UFW22L\n",
    "\n",
    "dataset = UFW22L(\"/data/datasets/UWF22\")\n",
    "\n",
    "dataset.prepare_data()\n",
    "dataset.setup(stage=\"fit\")\n",
    "\n",
    "# Get dataset columns\n",
    "columns = []\n",
    "s = None\n",
    "for batch in dataset.train_dataloader():\n",
    "    s = batch\n",
    "    break"
   ]
  },
  {
   "cell_type": "code",
   "execution_count": 4,
   "id": "ed07c551",
   "metadata": {},
   "outputs": [
    {
     "data": {
      "text/plain": [
       "Data(time=[3406], x=[4218, 0], edge_index=[2, 3406], edge_attr=[3406, 4], y=[3406])"
      ]
     },
     "execution_count": 4,
     "metadata": {},
     "output_type": "execute_result"
    }
   ],
   "source": []
  },
  {
   "cell_type": "markdown",
   "id": "17803868",
   "metadata": {},
   "source": [
    "### Dataset stats"
   ]
  },
  {
   "cell_type": "code",
   "execution_count": null,
   "id": "c6962ef5",
   "metadata": {},
   "outputs": [],
   "source": [
    "from ordered_set import OrderedSet\n",
    "#  Generate keymap for every column\n",
    "columns = [\n",
    "    \"\"\n",
    "]\n",
    "keymaps = {col: OrderedSet([]) for col in }\n",
    "\n",
    "# Display "
   ]
  },
  {
   "cell_type": "markdown",
   "id": "adee0a6e",
   "metadata": {},
   "source": []
  }
 ],
 "metadata": {
  "kernelspec": {
   "display_name": ".venv",
   "language": "python",
   "name": "python3"
  },
  "language_info": {
   "codemirror_mode": {
    "name": "ipython",
    "version": 3
   },
   "file_extension": ".py",
   "mimetype": "text/x-python",
   "name": "python",
   "nbconvert_exporter": "python",
   "pygments_lexer": "ipython3",
   "version": "3.12.3"
  }
 },
 "nbformat": 4,
 "nbformat_minor": 5
}
