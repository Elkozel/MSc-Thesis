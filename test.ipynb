{
 "cells": [
  {
   "cell_type": "code",
   "execution_count": 1,
   "id": "6402e6df",
   "metadata": {},
   "outputs": [],
   "source": [
    "import networkx as nx\n",
    "\n",
    "G = nx.Graph()\n",
    "\n",
    "# Computer uses port\n",
    "# port connects service\n",
    "# service belongs_to Computer"
   ]
  },
  {
   "cell_type": "code",
   "execution_count": 2,
   "id": "5a140ff0",
   "metadata": {},
   "outputs": [
    {
     "data": {
      "text/plain": [
       "<matplotlib.collections.PathCollection at 0x78d6d6662780>"
      ]
     },
     "execution_count": 2,
     "metadata": {},
     "output_type": "execute_result"
    },
    {
     "data": {
      "image/png": "[encoded data removed]",
      "text/plain": [
       "<Figure size 640x480 with 1 Axes>"
      ]
     },
     "metadata": {},
     "output_type": "display_data"
    }
   ],
   "source": [
    "G.add_edge(\"ComputerA\", \"PortA\")\n",
    "G.add_edge(\"PortA\", \"PortB\")\n",
    "G.add_edge(\"PortB\", \"ComputerB\")\n",
    "\n",
    "# Draw Ports\n",
    "pos = nx.spring_layout(G, seed=3113794652)  # positions for all nodes\n",
    "ports = [node for node in G.nodes.keys() if node.startswith(\"Port\")]\n",
    "computers = [node for node in G.nodes.keys() if node.startswith(\"Computer\")]\n",
    "nx.draw_networkx_nodes(\n",
    "    G,\n",
    "    pos,\n",
    "    nodelist=ports,\n",
    "    alpha=0.5,\n",
    "    node_color=\"tab:blue\",\n",
    ")\n",
    "# Draw Computers\n",
    "nx.draw_networkx_nodes(\n",
    "    G,\n",
    "    pos,\n",
    "    nodelist=computers,\n",
    "    alpha=0.5,\n",
    "    node_color=\"tab:red\",\n",
    ")"
   ]
  },
  {
   "cell_type": "code",
   "execution_count": 3,
   "id": "1b6eeb48",
   "metadata": {},
   "outputs": [
    {
     "data": {
      "image/png": "[encoded data removed]",
      "text/plain": [
       "<Figure size 640x480 with 1 Axes>"
      ]
     },
     "metadata": {},
     "output_type": "display_data"
    }
   ],
   "source": [
    "nx.draw(G, pos)"
   ]
  },
  {
   "cell_type": "code",
   "execution_count": 13,
   "id": "fa3fa3f0",
   "metadata": {},
   "outputs": [],
   "source": [
    "from torch_geometric.data import HeteroData\n",
    "\n",
    "data = HeteroData()\n",
    "services = {}\n",
    "clients = {}\n",
    "host_map = {}\n",
    "\n",
    "host_to_client = []\n",
    "client_to_service = []\n",
    "service_to_server = []\n",
    "\n",
    "def get_host(hostIP):\n",
    "    key = hostIP\n",
    "\n",
    "    if key in host_map:\n",
    "        return host_map[key]\n",
    "    \n",
    "    host_map[key] = len(host_map)\n",
    "    return host_map[key]\n",
    "\n",
    "def get_service(destinationIP, destinationPort):\n",
    "    key = (destinationIP, destinationPort)\n",
    "\n",
    "    if key in services:\n",
    "        return services[key]\n",
    "    \n",
    "    services[key] = len(services)\n",
    "    return services[key]\n",
    "\n",
    "def get_client(sourceIP, sourcePort):\n",
    "    key = (sourceIP, sourcePort)\n",
    "\n",
    "    if key in clients:\n",
    "        return clients[key]\n",
    "    \n",
    "    clients[key] = len(clients)\n",
    "    return clients[key]\n",
    "\n",
    "def handle_conn(sourceIP, sourcePort, destinationIP, destinationPort):\n",
    "    source = get_host(sourceIP)\n",
    "    client = get_client(sourceIP, sourcePort)\n",
    "    service = get_service(destinationIP, destinationPort)\n",
    "    destination = get_host(destinationIP)\n",
    "\n",
    "    host_to_client.append((source, client))\n",
    "    client_to_service.append((client, service))\n",
    "    service_to_server.append((service, destination))\n",
    "\n",
    "handle_conn(\"192.168.1.2\", 53453, \"192.168.1.1\", 53)\n",
    "handle_conn(\"192.168.1.2\", 53452, \"192.168.1.1\", 53)\n",
    "handle_conn(\"192.168.1.3\", 53, \"192.168.1.1\", 53)"
   ]
  },
  {
   "cell_type": "code",
   "execution_count": 14,
   "id": "7724fb69",
   "metadata": {},
   "outputs": [
    {
     "name": "stdout",
     "output_type": "stream",
     "text": [
      "[(0, 0), (0, 1), (2, 2)]\n",
      "[(0, 0), (1, 0), (2, 0)]\n",
      "[(0, 1), (0, 1), (0, 1)]\n"
     ]
    }
   ],
   "source": [
    "print(host_to_client)\n",
    "print(client_to_service)\n",
    "print(service_to_server)"
   ]
  },
  {
   "cell_type": "code",
   "execution_count": null,
   "id": "42446677",
   "metadata": {},
   "outputs": [],
   "source": []
  }
 ],
 "metadata": {
  "kernelspec": {
   "display_name": ".venv",
   "language": "python",
   "name": "python3"
  },
  "language_info": {
   "codemirror_mode": {
    "name": "ipython",
    "version": 3
   },
   "file_extension": ".py",
   "mimetype": "text/x-python",
   "name": "python",
   "nbconvert_exporter": "python",
   "pygments_lexer": "ipython3",
   "version": "3.12.3"
  }
 },
 "nbformat": 4,
 "nbformat_minor": 5
}
