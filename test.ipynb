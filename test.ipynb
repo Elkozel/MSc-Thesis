{
 "cells": [
  {
   "cell_type": "code",
   "execution_count": null,
   "id": "d9aa8975",
   "metadata": {},
   "outputs": [],
   "source": [
    "import time\n",
    "\n",
    "from random import randrange\n",
    "from multiprocessing.pool import ThreadPool\n",
    "\n",
    "from tqdm import tqdm\n",
    "\n",
    "\n",
    "def func_call(position, total):\n",
    "    text = 'progressbar #{position}'.format(position=position)\n",
    "    with  tqdm(total=total, position=position, desc=text) as progress:\n",
    "        for _ in range(0, total, 5):\n",
    "            progress.update(5)\n",
    "            time.sleep(randrange(3))\n",
    "\n",
    "\n",
    "pool = ThreadPool(10)\n",
    "tasks = range(5)\n",
    "for i, url in enumerate(tasks, 1):\n",
    "    pool.apply_async(func_call, args=(i, 100))\n",
    "pool.close()\n",
    "pool.join()"
   ]
  },
  {
   "cell_type": "code",
   "execution_count": null,
   "id": "090e4237",
   "metadata": {},
   "outputs": [],
   "source": []
  }
 ],
 "metadata": {
  "kernelspec": {
   "display_name": ".venv",
   "language": "python",
   "name": "python3"
  },
  "language_info": {
   "name": "python",
   "version": "3.11.4"
  }
 },
 "nbformat": 4,
 "nbformat_minor": 5
}
